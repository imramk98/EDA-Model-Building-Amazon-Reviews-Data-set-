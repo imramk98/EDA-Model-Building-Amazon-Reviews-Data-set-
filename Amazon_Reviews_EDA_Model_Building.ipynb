{
 "cells": [
  {
   "cell_type": "markdown",
   "metadata": {},
   "source": [
    "# Amazon Reviews Data Set EDA & Model Building "
   ]
  },
  {
   "cell_type": "markdown",
   "metadata": {},
   "source": [
    "## Importing necessary libraries"
   ]
  },
  {
   "cell_type": "code",
   "execution_count": 1,
   "metadata": {},
   "outputs": [],
   "source": [
    "#Import the necessary libraries (numpy, pandas, seaborn, matplotlib, \n",
    "#scikit-learn packages metrics,clustering,scale, train_test_split, \n",
    "#LogisticRegression, KNeighborsClassifier, DecisionTreeClassifier and GaussianNB)\n",
    "\n",
    "import numpy as np\n",
    "import pandas as pd\n",
    "\n",
    "import seaborn as sns\n",
    "import matplotlib.pyplot as plt\n",
    "import matplotlib.patches as mpatches\n",
    "\n",
    "from sklearn import cluster\n",
    "from sklearn import metrics\n",
    "from sklearn.preprocessing import scale\n",
    "from sklearn.model_selection import train_test_split \n",
    "from sklearn.linear_model import LogisticRegression\n",
    "from sklearn.neighbors import KNeighborsClassifier\n",
    "from sklearn.tree import DecisionTreeClassifier\n",
    "from sklearn.naive_bayes import GaussianNB"
   ]
  },
  {
   "cell_type": "markdown",
   "metadata": {},
   "source": [
    "## Importing CSV File"
   ]
  },
  {
   "cell_type": "code",
   "execution_count": 2,
   "metadata": {},
   "outputs": [],
   "source": [
    "#Importing the csv file and reading from it \n",
    "amazon_review_data = pd.read_csv(\"amz_reviews.csv\")"
   ]
  },
  {
   "cell_type": "markdown",
   "metadata": {},
   "source": [
    "## Quick Insight into Data "
   ]
  },
  {
   "cell_type": "code",
   "execution_count": 3,
   "metadata": {},
   "outputs": [
    {
     "name": "stdout",
     "output_type": "stream",
     "text": [
      "Number of rows are '44948' and Number of columns are '10'.\n"
     ]
    }
   ],
   "source": [
    "#Printing the number of rows and columns in the dataset \n",
    "print(\"Number of rows are '{0}' and Number of columns are '{1}'.\".format(amazon_review_data.shape[0],amazon_review_data.shape[1]))"
   ]
  },
  {
   "cell_type": "code",
   "execution_count": 4,
   "metadata": {},
   "outputs": [
    {
     "name": "stdout",
     "output_type": "stream",
     "text": [
      "\n",
      "Datatype for each attribute:\n",
      "reviewText       object\n",
      "polarity        float64\n",
      "subjectivity    float64\n",
      "num_words         int64\n",
      "flesch_score    float64\n",
      "verbs_ratio     float64\n",
      "nouns_ratio     float64\n",
      "prp_ratio       float64\n",
      "grammar           int64\n",
      "low_quality       int64\n",
      "dtype: object\n"
     ]
    }
   ],
   "source": [
    "#Printing the datatypes for each columns\n",
    "print(\"\\nDatatype for each attribute:\\n{}\".format(amazon_review_data.dtypes))"
   ]
  },
  {
   "cell_type": "code",
   "execution_count": 5,
   "metadata": {},
   "outputs": [
    {
     "data": {
      "text/html": [
       "<div>\n",
       "<style scoped>\n",
       "    .dataframe tbody tr th:only-of-type {\n",
       "        vertical-align: middle;\n",
       "    }\n",
       "\n",
       "    .dataframe tbody tr th {\n",
       "        vertical-align: top;\n",
       "    }\n",
       "\n",
       "    .dataframe thead th {\n",
       "        text-align: right;\n",
       "    }\n",
       "</style>\n",
       "<table border=\"1\" class=\"dataframe\">\n",
       "  <thead>\n",
       "    <tr style=\"text-align: right;\">\n",
       "      <th></th>\n",
       "      <th>reviewText</th>\n",
       "      <th>polarity</th>\n",
       "      <th>subjectivity</th>\n",
       "      <th>num_words</th>\n",
       "      <th>flesch_score</th>\n",
       "      <th>verbs_ratio</th>\n",
       "      <th>nouns_ratio</th>\n",
       "      <th>prp_ratio</th>\n",
       "      <th>grammar</th>\n",
       "      <th>low_quality</th>\n",
       "    </tr>\n",
       "  </thead>\n",
       "  <tbody>\n",
       "    <tr>\n",
       "      <th>0</th>\n",
       "      <td>Excellent</td>\n",
       "      <td>1.00</td>\n",
       "      <td>1.00</td>\n",
       "      <td>1</td>\n",
       "      <td>-47.99</td>\n",
       "      <td>0.00</td>\n",
       "      <td>1.00</td>\n",
       "      <td>0.00</td>\n",
       "      <td>0</td>\n",
       "      <td>1</td>\n",
       "    </tr>\n",
       "    <tr>\n",
       "      <th>1</th>\n",
       "      <td>Great</td>\n",
       "      <td>0.80</td>\n",
       "      <td>0.75</td>\n",
       "      <td>1</td>\n",
       "      <td>121.22</td>\n",
       "      <td>0.00</td>\n",
       "      <td>1.00</td>\n",
       "      <td>0.00</td>\n",
       "      <td>0</td>\n",
       "      <td>1</td>\n",
       "    </tr>\n",
       "    <tr>\n",
       "      <th>2</th>\n",
       "      <td>exactly what i wanted</td>\n",
       "      <td>0.25</td>\n",
       "      <td>0.25</td>\n",
       "      <td>4</td>\n",
       "      <td>50.50</td>\n",
       "      <td>0.25</td>\n",
       "      <td>0.25</td>\n",
       "      <td>0.00</td>\n",
       "      <td>2</td>\n",
       "      <td>1</td>\n",
       "    </tr>\n",
       "    <tr>\n",
       "      <th>3</th>\n",
       "      <td>very good</td>\n",
       "      <td>0.91</td>\n",
       "      <td>0.78</td>\n",
       "      <td>2</td>\n",
       "      <td>120.21</td>\n",
       "      <td>0.00</td>\n",
       "      <td>0.00</td>\n",
       "      <td>0.00</td>\n",
       "      <td>1</td>\n",
       "      <td>1</td>\n",
       "    </tr>\n",
       "    <tr>\n",
       "      <th>4</th>\n",
       "      <td>thank you very much</td>\n",
       "      <td>0.26</td>\n",
       "      <td>0.26</td>\n",
       "      <td>4</td>\n",
       "      <td>118.18</td>\n",
       "      <td>0.00</td>\n",
       "      <td>0.25</td>\n",
       "      <td>0.25</td>\n",
       "      <td>1</td>\n",
       "      <td>1</td>\n",
       "    </tr>\n",
       "    <tr>\n",
       "      <th>5</th>\n",
       "      <td>Nothing to complain about.</td>\n",
       "      <td>0.00</td>\n",
       "      <td>0.00</td>\n",
       "      <td>4</td>\n",
       "      <td>75.88</td>\n",
       "      <td>0.25</td>\n",
       "      <td>0.00</td>\n",
       "      <td>0.00</td>\n",
       "      <td>0</td>\n",
       "      <td>1</td>\n",
       "    </tr>\n",
       "    <tr>\n",
       "      <th>6</th>\n",
       "      <td>Cute case</td>\n",
       "      <td>0.50</td>\n",
       "      <td>1.00</td>\n",
       "      <td>2</td>\n",
       "      <td>120.21</td>\n",
       "      <td>0.00</td>\n",
       "      <td>1.00</td>\n",
       "      <td>0.00</td>\n",
       "      <td>0</td>\n",
       "      <td>1</td>\n",
       "    </tr>\n",
       "    <tr>\n",
       "      <th>7</th>\n",
       "      <td>Works great. Even works with case on the watch.</td>\n",
       "      <td>0.80</td>\n",
       "      <td>0.75</td>\n",
       "      <td>9</td>\n",
       "      <td>113.10</td>\n",
       "      <td>0.22</td>\n",
       "      <td>0.22</td>\n",
       "      <td>0.00</td>\n",
       "      <td>0</td>\n",
       "      <td>1</td>\n",
       "    </tr>\n",
       "    <tr>\n",
       "      <th>8</th>\n",
       "      <td>My office has NO cell service unless I sit nex...</td>\n",
       "      <td>0.09</td>\n",
       "      <td>0.45</td>\n",
       "      <td>111</td>\n",
       "      <td>82.78</td>\n",
       "      <td>0.12</td>\n",
       "      <td>0.23</td>\n",
       "      <td>0.09</td>\n",
       "      <td>1</td>\n",
       "      <td>1</td>\n",
       "    </tr>\n",
       "    <tr>\n",
       "      <th>9</th>\n",
       "      <td>Great product!\\n\\n(Review in exchage for free/...</td>\n",
       "      <td>1.00</td>\n",
       "      <td>0.75</td>\n",
       "      <td>8</td>\n",
       "      <td>37.98</td>\n",
       "      <td>0.00</td>\n",
       "      <td>0.50</td>\n",
       "      <td>0.00</td>\n",
       "      <td>1</td>\n",
       "      <td>1</td>\n",
       "    </tr>\n",
       "  </tbody>\n",
       "</table>\n",
       "</div>"
      ],
      "text/plain": [
       "                                          reviewText  polarity  subjectivity  \\\n",
       "0                                          Excellent      1.00          1.00   \n",
       "1                                              Great      0.80          0.75   \n",
       "2                              exactly what i wanted      0.25          0.25   \n",
       "3                                          very good      0.91          0.78   \n",
       "4                                thank you very much      0.26          0.26   \n",
       "5                         Nothing to complain about.      0.00          0.00   \n",
       "6                                          Cute case      0.50          1.00   \n",
       "7    Works great. Even works with case on the watch.      0.80          0.75   \n",
       "8  My office has NO cell service unless I sit nex...      0.09          0.45   \n",
       "9  Great product!\\n\\n(Review in exchage for free/...      1.00          0.75   \n",
       "\n",
       "   num_words  flesch_score  verbs_ratio  nouns_ratio  prp_ratio  grammar  \\\n",
       "0          1        -47.99         0.00         1.00       0.00        0   \n",
       "1          1        121.22         0.00         1.00       0.00        0   \n",
       "2          4         50.50         0.25         0.25       0.00        2   \n",
       "3          2        120.21         0.00         0.00       0.00        1   \n",
       "4          4        118.18         0.00         0.25       0.25        1   \n",
       "5          4         75.88         0.25         0.00       0.00        0   \n",
       "6          2        120.21         0.00         1.00       0.00        0   \n",
       "7          9        113.10         0.22         0.22       0.00        0   \n",
       "8        111         82.78         0.12         0.23       0.09        1   \n",
       "9          8         37.98         0.00         0.50       0.00        1   \n",
       "\n",
       "   low_quality  \n",
       "0            1  \n",
       "1            1  \n",
       "2            1  \n",
       "3            1  \n",
       "4            1  \n",
       "5            1  \n",
       "6            1  \n",
       "7            1  \n",
       "8            1  \n",
       "9            1  "
      ]
     },
     "execution_count": 5,
     "metadata": {},
     "output_type": "execute_result"
    }
   ],
   "source": [
    "#Outputting the first 5 rows from the dataset\n",
    "amazon_review_data.head(10)"
   ]
  },
  {
   "cell_type": "markdown",
   "metadata": {},
   "source": [
    "## Data Pre-Processing "
   ]
  },
  {
   "cell_type": "code",
   "execution_count": 6,
   "metadata": {},
   "outputs": [
    {
     "data": {
      "text/html": [
       "<div>\n",
       "<style scoped>\n",
       "    .dataframe tbody tr th:only-of-type {\n",
       "        vertical-align: middle;\n",
       "    }\n",
       "\n",
       "    .dataframe tbody tr th {\n",
       "        vertical-align: top;\n",
       "    }\n",
       "\n",
       "    .dataframe thead th {\n",
       "        text-align: right;\n",
       "    }\n",
       "</style>\n",
       "<table border=\"1\" class=\"dataframe\">\n",
       "  <thead>\n",
       "    <tr style=\"text-align: right;\">\n",
       "      <th></th>\n",
       "      <th>polarity</th>\n",
       "      <th>subjectivity</th>\n",
       "      <th>num_words</th>\n",
       "      <th>flesch_score</th>\n",
       "      <th>verbs_ratio</th>\n",
       "      <th>nouns_ratio</th>\n",
       "      <th>prp_ratio</th>\n",
       "      <th>grammar</th>\n",
       "      <th>low_quality</th>\n",
       "    </tr>\n",
       "  </thead>\n",
       "  <tbody>\n",
       "    <tr>\n",
       "      <th>0</th>\n",
       "      <td>1.00</td>\n",
       "      <td>1.00</td>\n",
       "      <td>1</td>\n",
       "      <td>-47.99</td>\n",
       "      <td>0.00</td>\n",
       "      <td>1.00</td>\n",
       "      <td>0.00</td>\n",
       "      <td>0</td>\n",
       "      <td>1</td>\n",
       "    </tr>\n",
       "    <tr>\n",
       "      <th>1</th>\n",
       "      <td>0.80</td>\n",
       "      <td>0.75</td>\n",
       "      <td>1</td>\n",
       "      <td>121.22</td>\n",
       "      <td>0.00</td>\n",
       "      <td>1.00</td>\n",
       "      <td>0.00</td>\n",
       "      <td>0</td>\n",
       "      <td>1</td>\n",
       "    </tr>\n",
       "    <tr>\n",
       "      <th>2</th>\n",
       "      <td>0.25</td>\n",
       "      <td>0.25</td>\n",
       "      <td>4</td>\n",
       "      <td>50.50</td>\n",
       "      <td>0.25</td>\n",
       "      <td>0.25</td>\n",
       "      <td>0.00</td>\n",
       "      <td>2</td>\n",
       "      <td>1</td>\n",
       "    </tr>\n",
       "    <tr>\n",
       "      <th>3</th>\n",
       "      <td>0.91</td>\n",
       "      <td>0.78</td>\n",
       "      <td>2</td>\n",
       "      <td>120.21</td>\n",
       "      <td>0.00</td>\n",
       "      <td>0.00</td>\n",
       "      <td>0.00</td>\n",
       "      <td>1</td>\n",
       "      <td>1</td>\n",
       "    </tr>\n",
       "    <tr>\n",
       "      <th>4</th>\n",
       "      <td>0.26</td>\n",
       "      <td>0.26</td>\n",
       "      <td>4</td>\n",
       "      <td>118.18</td>\n",
       "      <td>0.00</td>\n",
       "      <td>0.25</td>\n",
       "      <td>0.25</td>\n",
       "      <td>1</td>\n",
       "      <td>1</td>\n",
       "    </tr>\n",
       "  </tbody>\n",
       "</table>\n",
       "</div>"
      ],
      "text/plain": [
       "   polarity  subjectivity  num_words  flesch_score  verbs_ratio  nouns_ratio  \\\n",
       "0      1.00          1.00          1        -47.99         0.00         1.00   \n",
       "1      0.80          0.75          1        121.22         0.00         1.00   \n",
       "2      0.25          0.25          4         50.50         0.25         0.25   \n",
       "3      0.91          0.78          2        120.21         0.00         0.00   \n",
       "4      0.26          0.26          4        118.18         0.00         0.25   \n",
       "\n",
       "   prp_ratio  grammar  low_quality  \n",
       "0       0.00        0            1  \n",
       "1       0.00        0            1  \n",
       "2       0.00        2            1  \n",
       "3       0.00        1            1  \n",
       "4       0.25        1            1  "
      ]
     },
     "execution_count": 6,
     "metadata": {},
     "output_type": "execute_result"
    }
   ],
   "source": [
    "#Droping the column, 'reviewText' as it is of type object and provides no values numerically \n",
    "#as num_words column shows the number of word in each review text \n",
    "amazon_review_data.drop(['reviewText'], axis=1, inplace=True)\n",
    "\n",
    "#Outputting the first 5 rows from the dataset to show that 'reviewText' \n",
    "#has been removed from the dataset\n",
    "amazon_review_data.head(5)"
   ]
  },
  {
   "cell_type": "code",
   "execution_count": 7,
   "metadata": {},
   "outputs": [
    {
     "data": {
      "text/html": [
       "<div>\n",
       "<style scoped>\n",
       "    .dataframe tbody tr th:only-of-type {\n",
       "        vertical-align: middle;\n",
       "    }\n",
       "\n",
       "    .dataframe tbody tr th {\n",
       "        vertical-align: top;\n",
       "    }\n",
       "\n",
       "    .dataframe thead th {\n",
       "        text-align: right;\n",
       "    }\n",
       "</style>\n",
       "<table border=\"1\" class=\"dataframe\">\n",
       "  <thead>\n",
       "    <tr style=\"text-align: right;\">\n",
       "      <th></th>\n",
       "      <th>polarity</th>\n",
       "      <th>subjectivity</th>\n",
       "      <th>num_words</th>\n",
       "      <th>flesch_score</th>\n",
       "      <th>verbs_ratio</th>\n",
       "      <th>nouns_ratio</th>\n",
       "      <th>prp_ratio</th>\n",
       "      <th>grammar</th>\n",
       "      <th>quality</th>\n",
       "    </tr>\n",
       "  </thead>\n",
       "  <tbody>\n",
       "    <tr>\n",
       "      <th>0</th>\n",
       "      <td>1.00</td>\n",
       "      <td>1.00</td>\n",
       "      <td>1</td>\n",
       "      <td>-47.99</td>\n",
       "      <td>0.00</td>\n",
       "      <td>1.00</td>\n",
       "      <td>0.00</td>\n",
       "      <td>0</td>\n",
       "      <td>1</td>\n",
       "    </tr>\n",
       "    <tr>\n",
       "      <th>1</th>\n",
       "      <td>0.80</td>\n",
       "      <td>0.75</td>\n",
       "      <td>1</td>\n",
       "      <td>121.22</td>\n",
       "      <td>0.00</td>\n",
       "      <td>1.00</td>\n",
       "      <td>0.00</td>\n",
       "      <td>0</td>\n",
       "      <td>1</td>\n",
       "    </tr>\n",
       "    <tr>\n",
       "      <th>2</th>\n",
       "      <td>0.25</td>\n",
       "      <td>0.25</td>\n",
       "      <td>4</td>\n",
       "      <td>50.50</td>\n",
       "      <td>0.25</td>\n",
       "      <td>0.25</td>\n",
       "      <td>0.00</td>\n",
       "      <td>2</td>\n",
       "      <td>1</td>\n",
       "    </tr>\n",
       "    <tr>\n",
       "      <th>3</th>\n",
       "      <td>0.91</td>\n",
       "      <td>0.78</td>\n",
       "      <td>2</td>\n",
       "      <td>120.21</td>\n",
       "      <td>0.00</td>\n",
       "      <td>0.00</td>\n",
       "      <td>0.00</td>\n",
       "      <td>1</td>\n",
       "      <td>1</td>\n",
       "    </tr>\n",
       "    <tr>\n",
       "      <th>4</th>\n",
       "      <td>0.26</td>\n",
       "      <td>0.26</td>\n",
       "      <td>4</td>\n",
       "      <td>118.18</td>\n",
       "      <td>0.00</td>\n",
       "      <td>0.25</td>\n",
       "      <td>0.25</td>\n",
       "      <td>1</td>\n",
       "      <td>1</td>\n",
       "    </tr>\n",
       "  </tbody>\n",
       "</table>\n",
       "</div>"
      ],
      "text/plain": [
       "   polarity  subjectivity  num_words  flesch_score  verbs_ratio  nouns_ratio  \\\n",
       "0      1.00          1.00          1        -47.99         0.00         1.00   \n",
       "1      0.80          0.75          1        121.22         0.00         1.00   \n",
       "2      0.25          0.25          4         50.50         0.25         0.25   \n",
       "3      0.91          0.78          2        120.21         0.00         0.00   \n",
       "4      0.26          0.26          4        118.18         0.00         0.25   \n",
       "\n",
       "   prp_ratio  grammar  quality  \n",
       "0       0.00        0        1  \n",
       "1       0.00        0        1  \n",
       "2       0.00        2        1  \n",
       "3       0.00        1        1  \n",
       "4       0.25        1        1  "
      ]
     },
     "execution_count": 7,
     "metadata": {},
     "output_type": "execute_result"
    }
   ],
   "source": [
    "#Replacing column name 'low_quality' with just 'quality'\n",
    "#to prevent confusion as value 0 represents high quality and \n",
    "#1 represents low quality as binary values \n",
    "amazon_review_data.rename({'low_quality': 'quality'}, axis=1, inplace=True)\n",
    "\n",
    "#Outputting the first 5 rows from the dataset to show that column name change\n",
    "amazon_review_data.head(5)"
   ]
  },
  {
   "cell_type": "code",
   "execution_count": 8,
   "metadata": {},
   "outputs": [
    {
     "name": "stdout",
     "output_type": "stream",
     "text": [
      "Number of duplicated rows for each attribute are '16398' which makes up 36% of the entire data.\n"
     ]
    }
   ],
   "source": [
    "#Check for any duplicated row in the dataset\n",
    "duplicate_rows = amazon_review_data[amazon_review_data.duplicated()]\n",
    "\n",
    "#Print the number of dupluicated rows \n",
    "print(\"Number of duplicated rows for each attribute are '{0}' which makes up {1:.0f}% of the entire data.\".format(duplicate_rows.shape[0],duplicate_rows.shape[0]* 100 / len(amazon_review_data)))"
   ]
  },
  {
   "cell_type": "code",
   "execution_count": 9,
   "metadata": {},
   "outputs": [],
   "source": [
    "#Remove all the duplicated rows and update the dataset\n",
    "amazon_review_data.drop_duplicates(keep=False, inplace=True)"
   ]
  },
  {
   "cell_type": "code",
   "execution_count": 10,
   "metadata": {},
   "outputs": [
    {
     "name": "stdout",
     "output_type": "stream",
     "text": [
      "Number of duplicated rows for each attribute after removing them: 0\n",
      "Number of after removing duplicated values rows are '27169' and Number of columns are '9'.\n"
     ]
    }
   ],
   "source": [
    "#Checks for any duplicated row after removing them \n",
    "duplicate_rows = amazon_review_data[amazon_review_data.duplicated()]\n",
    "\n",
    "#Prints the number of duplicated values\n",
    "print(\"Number of duplicated rows for each attribute after removing them: {}\".format(duplicate_rows.shape[0]))\n",
    "\n",
    "#Prints the number of rows and columns \n",
    "print(\"Number of after removing duplicated values rows are '{0}' and Number of columns are '{1}'.\".format(amazon_review_data.shape[0],amazon_review_data.shape[1]))"
   ]
  },
  {
   "cell_type": "code",
   "execution_count": 11,
   "metadata": {},
   "outputs": [
    {
     "name": "stdout",
     "output_type": "stream",
     "text": [
      "Number of values for each attribute:\n",
      "polarity        27169\n",
      "subjectivity    27169\n",
      "num_words       27169\n",
      "flesch_score    27169\n",
      "verbs_ratio     27169\n",
      "nouns_ratio     27169\n",
      "prp_ratio       27169\n",
      "grammar         27169\n",
      "quality         27169\n",
      "dtype: int64\n",
      "\n"
     ]
    }
   ],
   "source": [
    "#Print number of values for each attributes \n",
    "print(\"Number of values for each attribute:\\n{}\\n\"\n",
    "     .format(amazon_review_data.count()))"
   ]
  },
  {
   "cell_type": "code",
   "execution_count": 12,
   "metadata": {},
   "outputs": [
    {
     "name": "stdout",
     "output_type": "stream",
     "text": [
      "Checking for number missing values for each attribute:\n",
      "polarity        0\n",
      "subjectivity    0\n",
      "num_words       0\n",
      "flesch_score    0\n",
      "verbs_ratio     0\n",
      "nouns_ratio     0\n",
      "prp_ratio       0\n",
      "grammar         0\n",
      "quality         0\n",
      "dtype: int64\n"
     ]
    }
   ],
   "source": [
    "#Checking for number of missing values for each column \n",
    "print(\"Checking for number missing values for each attribute:\\n{}\"\n",
    "      .format(amazon_review_data.isnull().sum() ))"
   ]
  },
  {
   "cell_type": "markdown",
   "metadata": {},
   "source": [
    "## Data Exploration - Exploratory Data Analysis "
   ]
  },
  {
   "cell_type": "markdown",
   "metadata": {},
   "source": [
    "### Heatmap"
   ]
  },
  {
   "cell_type": "code",
   "execution_count": 13,
   "metadata": {},
   "outputs": [
    {
     "data": {
      "image/png": "[encoded data removed]",
      "text/plain": [
       "<Figure size 1440x720 with 2 Axes>"
      ]
     },
     "metadata": {
      "needs_background": "light"
     },
     "output_type": "display_data"
    }
   ],
   "source": [
    "#Using a simple heatmaps visulisation techniques to show correlations between attributes\n",
    "plt.figure(figsize=(20,10))\n",
    "corr = amazon_review_data.corr()\n",
    "heatmap = sns.heatmap(corr,cmap=\"BrBG\",annot=True)\n",
    "heatmap.set_title(\"Correlation Heatmap\",fontdict={'fontsize':20})\n",
    "plt.show()"
   ]
  },
  {
   "cell_type": "markdown",
   "metadata": {},
   "source": [
    "### BoxPlot"
   ]
  },
  {
   "cell_type": "code",
   "execution_count": 14,
   "metadata": {},
   "outputs": [
    {
     "data": {
      "image/png": "[encoded data removed]",
      "text/plain": [
       "<Figure size 1080x720 with 9 Axes>"
      ]
     },
     "metadata": {
      "needs_background": "light"
     },
     "output_type": "display_data"
    }
   ],
   "source": [
    "#Using box plot visualisation technique to show distributions of features\n",
    "box_polt = amazon_review_data.plot(kind='box', subplots=True, layout=(3,3), figsize=(15, 10))\n",
    "plt.show();"
   ]
  },
  {
   "cell_type": "markdown",
   "metadata": {},
   "source": [
    "### Histogram"
   ]
  },
  {
   "cell_type": "code",
   "execution_count": 15,
   "metadata": {},
   "outputs": [
    {
     "data": {
      "image/png": "[encoded data removed]",
      "text/plain": [
       "<Figure size 720x360 with 1 Axes>"
      ]
     },
     "metadata": {
      "needs_background": "light"
     },
     "output_type": "display_data"
    }
   ],
   "source": [
    "#A Simple Histogram to show the distribtion of data in subjectivity\n",
    "plt.figure(figsize=(10,5))\n",
    "num_bins = 5\n",
    "hist = plt.hist(amazon_review_data['subjectivity'], num_bins, alpha=1)\n",
    "plt.xlabel(\"Subjectivity\",fontdict={'fontsize':14})\n",
    "plt.ylabel(\"Count\",fontdict={'fontsize':14})\n",
    "plt.show;"
   ]
  },
  {
   "cell_type": "markdown",
   "metadata": {},
   "source": [
    "### Scatter  Plot"
   ]
  },
  {
   "cell_type": "code",
   "execution_count": 16,
   "metadata": {},
   "outputs": [
    {
     "data": {
      "image/png": "[encoded data removed]",
      "text/plain": [
       "<Figure size 432x288 with 1 Axes>"
      ]
     },
     "metadata": {
      "needs_background": "light"
     },
     "output_type": "display_data"
    }
   ],
   "source": [
    "#A simple scatter plot\n",
    "fig, ax = plt.subplots()\n",
    "fit = np.polyfit(amazon_review_data['num_words'], amazon_review_data['grammar'], deg=1)\n",
    "ax.plot(amazon_review_data['num_words'], fit[0] * amazon_review_data['num_words'] + fit[1], color='green')\n",
    "ax.scatter(amazon_review_data['num_words'],amazon_review_data['grammar'], alpha=0.5)\n",
    "plt.xlabel(\"Number of Words\",fontdict={'fontsize':14})\n",
    "plt.ylabel(\"Grammar Score\",fontdict={'fontsize':14})\n",
    "plt.show();"
   ]
  },
  {
   "cell_type": "markdown",
   "metadata": {},
   "source": [
    "### Bar Chart"
   ]
  },
  {
   "cell_type": "code",
   "execution_count": 17,
   "metadata": {},
   "outputs": [
    {
     "data": {
      "image/png": "[encoded data removed]",
      "text/plain": [
       "<Figure size 720x360 with 1 Axes>"
      ]
     },
     "metadata": {
      "needs_background": "light"
     },
     "output_type": "display_data"
    }
   ],
   "source": [
    "#A Simple Bar Chart to show the top 10 number of words \n",
    "plt.figure(figsize=(10,5))\n",
    "bar_chart=amazon_review_data['num_words'].value_counts().nlargest(10).sort_values(ascending=True).plot.bar()\n",
    "plt.title('Top 10 most occuring number of words in dataset', fontdict={'fontsize':14})\n",
    "plt.ylabel(\"Count\", fontdict={'fontsize':14})\n",
    "plt.xlabel(\"Number of Words\",fontdict={'fontsize':14})\n",
    "plt.show()"
   ]
  },
  {
   "cell_type": "markdown",
   "metadata": {},
   "source": [
    "### Pie Chart"
   ]
  },
  {
   "cell_type": "code",
   "execution_count": 18,
   "metadata": {},
   "outputs": [
    {
     "data": {
      "image/png": "[encoded data removed]",
      "text/plain": [
       "<Figure size 1080x720 with 1 Axes>"
      ]
     },
     "metadata": {},
     "output_type": "display_data"
    }
   ],
   "source": [
    "#A simple pie chart to show the distribution of featrues in quality attribute \n",
    "plt.figure(figsize=(15,10))\n",
    "amazon_review_data['quality'].value_counts().plot.pie(shadow=True, startangle=180, autopct='%.2f%%', \n",
    "                                                      textprops={'fontsize': 20})\n",
    "plt.title('Distribution of quality attribute', fontdict={'fontsize':14})\n",
    "plt.show()"
   ]
  },
  {
   "cell_type": "markdown",
   "metadata": {},
   "source": [
    "# Unspervised Model - K-mean Clustering"
   ]
  },
  {
   "cell_type": "code",
   "execution_count": 19,
   "metadata": {},
   "outputs": [],
   "source": [
    "#Segment the outcome (last column), variable Y which is the predicting value \n",
    "#and remaining data (attributes), variable X which are the inputs used to predict Y\n",
    "X = amazon_review_data.drop(['quality'], axis=1)\n",
    "Y = amazon_review_data.quality"
   ]
  },
  {
   "cell_type": "code",
   "execution_count": 20,
   "metadata": {},
   "outputs": [
    {
     "data": {
      "text/plain": [
       "array([[ 1.80315223,  0.94187103, -0.56318053, ..., -0.24158477,\n",
       "        -1.19450347, -0.50239889],\n",
       "       [-1.31237097,  0.68356461, -0.58230748, ...,  1.07482451,\n",
       "        -1.19450347, -0.50239889],\n",
       "       [ 1.61988616,  1.97509672, -0.62056138, ...,  0.44796295,\n",
       "        -1.19450347, -0.50239889],\n",
       "       ...,\n",
       "       [-0.28608097, -0.19467723,  0.82352323, ..., -0.30427093,\n",
       "         0.4871341 ,  0.32262909],\n",
       "       [ 0.19041081, -0.14301594,  0.47923816, ..., -0.0535263 ,\n",
       "         0.02850567, -0.2961419 ],\n",
       "       [ 0.92347509,  0.68356461, -0.06587987, ...,  0.25990448,\n",
       "        -0.43012276, -0.0898849 ]])"
      ]
     },
     "execution_count": 20,
     "metadata": {},
     "output_type": "execute_result"
    }
   ],
   "source": [
    "scaled_data = scale(X)\n",
    "scaled_data"
   ]
  },
  {
   "cell_type": "markdown",
   "metadata": {},
   "source": [
    "## Evaluating K-Means: Elbow Method"
   ]
  },
  {
   "cell_type": "code",
   "execution_count": 21,
   "metadata": {},
   "outputs": [],
   "source": [
    "#Calculate sum of squared error(SSE) for each number of cluster\n",
    "sse={}\n",
    "for k in range(1,10):\n",
    "    kmeans1 = cluster.KMeans(n_clusters=k)\n",
    "    kmeans1.fit(scaled_data)\n",
    "    #sum of distances of samples to thier closet cluster center\n",
    "    sse[k] = kmeans1.inertia_ "
   ]
  },
  {
   "cell_type": "code",
   "execution_count": 22,
   "metadata": {},
   "outputs": [
    {
     "data": {
      "text/plain": [
       "<Figure size 432x288 with 0 Axes>"
      ]
     },
     "metadata": {},
     "output_type": "display_data"
    },
    {
     "data": {
      "image/png": "[encoded data removed]",
      "text/plain": [
       "<Figure size 720x360 with 1 Axes>"
      ]
     },
     "metadata": {
      "needs_background": "light"
     },
     "output_type": "display_data"
    }
   ],
   "source": [
    "#Plot the results of elbow method on a line chart\n",
    "plt.figure()\n",
    "plt.figure(figsize=(10,5))\n",
    "plt.plot(list(sse.keys()), list(sse.values()), marker='x')\n",
    "plt.xlabel(\"Number of cluster\")\n",
    "plt.ylabel(\"SEE\")\n",
    "plt.show();"
   ]
  },
  {
   "cell_type": "markdown",
   "metadata": {},
   "source": [
    "Optimal number of cluster is <b>4</b>."
   ]
  },
  {
   "cell_type": "markdown",
   "metadata": {},
   "source": [
    "## Evaluating K-Means: Silhoette, Completeness, Homogeneity Score "
   ]
  },
  {
   "cell_type": "code",
   "execution_count": 23,
   "metadata": {},
   "outputs": [
    {
     "name": "stdout",
     "output_type": "stream",
     "text": [
      "\n",
      "For n_cluster=2\n",
      "Silhouette Score = 0.16945252342914846\n",
      "Completeness Score = 0.009653374488906548\n",
      "Homogeneity Score = 0.0197111913496923\n",
      "\n",
      "For n_cluster=3\n",
      "Silhouette Score = 0.20485275073422798\n",
      "Completeness Score = 0.011698131883773222\n",
      "Homogeneity Score = 0.02935333406409268\n",
      "\n",
      "For n_cluster=4\n",
      "Silhouette Score = 0.17557019065414092\n",
      "Completeness Score = 0.01209082629618414\n",
      "Homogeneity Score = 0.04326256840744686\n",
      "\n",
      "For n_cluster=5\n",
      "Silhouette Score = 0.1771695052378294\n",
      "Completeness Score = 0.011927983115946674\n",
      "Homogeneity Score = 0.04607931454159568\n",
      "\n",
      "For n_cluster=6\n",
      "Silhouette Score = 0.16270341413931458\n",
      "Completeness Score = 0.016962453315740072\n",
      "Homogeneity Score = 0.07372479183900583\n",
      "\n",
      "For n_cluster=7\n",
      "Silhouette Score = 0.17357702113506013\n",
      "Completeness Score = 0.015959165237475034\n",
      "Homogeneity Score = 0.07261073023667385\n",
      "\n",
      "For n_cluster=8\n",
      "Silhouette Score = 0.16723143990534645\n",
      "Completeness Score = 0.02150624552439428\n",
      "Homogeneity Score = 0.10824975397165193\n",
      "\n",
      "For n_cluster=9\n",
      "Silhouette Score = 0.1689523775001456\n",
      "Completeness Score = 0.023088470467251248\n",
      "Homogeneity Score = 0.12219630467775147\n",
      "\n",
      "For n_cluster=10\n",
      "Silhouette Score = 0.14566395367087587\n",
      "Completeness Score = 0.022603372670202355\n",
      "Homogeneity Score = 0.12612251545007175\n"
     ]
    }
   ],
   "source": [
    "#Check the performance of each number of cluster by using\n",
    "#silhouette, completeness and homogeneity score\n",
    "n_samples, n_features = scaled_data.shape\n",
    "cluster_array = []\n",
    "k_range2 = range(2,11)\n",
    "for k in k_range2:\n",
    "    kmeans2 = cluster.KMeans(n_clusters=k)\n",
    "    kmeans2.fit(scaled_data)\n",
    "    print(\"\\nFor n_cluster={0}\".format(k))\n",
    "    print(\"Silhouette Score = {}\".format(metrics.silhouette_score(scaled_data, kmeans2.labels_)))\n",
    "    print(\"Completeness Score = {}\".format(metrics.completeness_score(Y, kmeans2.labels_)))\n",
    "    print(\"Homogeneity Score = {}\".format(metrics.homogeneity_score(Y, kmeans2.labels_)))\n",
    "    #Add each of the metrics to a array \n",
    "    cluster_array.append([metrics.silhouette_score(scaled_data, kmeans2.labels_),\n",
    "                         metrics.completeness_score(Y, kmeans2.labels_),\n",
    "                         metrics.homogeneity_score(Y, kmeans2.labels_)])\n",
    "    "
   ]
  },
  {
   "cell_type": "code",
   "execution_count": 24,
   "metadata": {},
   "outputs": [
    {
     "data": {
      "image/png": "[encoded data removed]",
      "text/plain": [
       "<Figure size 720x360 with 1 Axes>"
      ]
     },
     "metadata": {
      "needs_background": "light"
     },
     "output_type": "display_data"
    }
   ],
   "source": [
    "#Arrays for each of the metric to be added to \n",
    "silhouette=[]\n",
    "Completeness=[]\n",
    "Homogeneity=[]\n",
    "\n",
    "#For each of the metrics add them to thier appropriate array\n",
    "for i in range (len(cluster_array)):\n",
    "    silhouette.append(cluster_array[i][0])\n",
    "    Completeness.append(cluster_array[i][1])\n",
    "    Homogeneity.append(cluster_array[i][2])\n",
    "\n",
    "#Plot the results on a line chart\n",
    "plt.figure(figsize=(10,5))\n",
    "plt.plot(silhouette, color='blue', marker='x')\n",
    "plt.plot(Completeness, color='orange', marker='x')\n",
    "plt.plot(Homogeneity, color='green',marker='x')\n",
    "plt.title(\"Results of varying clusters - K-means\")\n",
    "plt.xlabel(\"Number of cluster\")\n",
    "plt.xticks(np.arange(len(k_range2)), k_range2)\n",
    "silhouette_patch = mpatches.Patch(color='blue',label='Silhouette')\n",
    "completeness_patch = mpatches.Patch(color='orange',label='Completeness')\n",
    "homogeneity_patch = mpatches.Patch(color='green',label='Homogeneity')\n",
    "plt.legend(handles=[silhouette_patch,completeness_patch,homogeneity_patch])\n",
    "plt.grid(True)\n",
    "plt.show()\n"
   ]
  },
  {
   "cell_type": "markdown",
   "metadata": {},
   "source": [
    "Optimal number of cluster is <b>9</b>."
   ]
  },
  {
   "cell_type": "markdown",
   "metadata": {},
   "source": [
    "# Supervised Model "
   ]
  },
  {
   "cell_type": "markdown",
   "metadata": {},
   "source": [
    "## Splitting Data"
   ]
  },
  {
   "cell_type": "code",
   "execution_count": 25,
   "metadata": {},
   "outputs": [
    {
     "name": "stdout",
     "output_type": "stream",
     "text": [
      "\n",
      "Size of Temporary Data (70%) which is furthur split into data for training and validation:19018\n",
      "Size of Training Data (70%): 13312\n",
      "Size of Validation Data (30%): 5706\n",
      "Size of Testing Data (30%): 8151\n"
     ]
    }
   ],
   "source": [
    "# Segment the data into Temporary and Test Data \n",
    "X_tmp, X_test, Y_tmp, Y_test = train_test_split(X, Y, test_size=0.3, random_state=1)\n",
    "\n",
    "# Segment Temporary data into Training and Validation:\n",
    "X_train, X_valid, Y_train, Y_valid = train_test_split(X_tmp, Y_tmp, test_size=0.3, random_state=1) \n",
    "\n",
    "print (\"\\nSize of Temporary Data (70%) which is furthur split into data for training and validation:{0}\".format(X_tmp.shape[0]))\n",
    "print (\"Size of Training Data (70%): {0}\".format(X_train.shape[0]))\n",
    "print (\"Size of Validation Data (30%): {0}\".format(X_valid.shape[0]))\n",
    "print (\"Size of Testing Data (30%): {0}\".format(X_test.shape[0]))"
   ]
  },
  {
   "cell_type": "markdown",
   "metadata": {},
   "source": [
    "## Choosing a Supervised Method"
   ]
  },
  {
   "cell_type": "code",
   "execution_count": 26,
   "metadata": {},
   "outputs": [
    {
     "name": "stdout",
     "output_type": "stream",
     "text": [
      "\n",
      "\n",
      "#########################Logistic Regression##############################\n",
      "Calssification Report:\n",
      "              precision    recall  f1-score   support\n",
      "\n",
      "           0       0.91      0.99      0.95      5122\n",
      "           1       0.74      0.14      0.24       584\n",
      "\n",
      "    accuracy                           0.91      5706\n",
      "   macro avg       0.83      0.57      0.59      5706\n",
      "weighted avg       0.89      0.91      0.88      5706\n",
      "\n",
      "Confustion Matrix:\n",
      "[[5093   29]\n",
      " [ 501   83]]\n",
      "\n",
      "Accuracy Score: 90.71%\n",
      "\n",
      "\n",
      "#########################Decision Tree####################################\n",
      "Calssification Report:\n",
      "              precision    recall  f1-score   support\n",
      "\n",
      "           0       0.93      0.93      0.93      5122\n",
      "           1       0.40      0.43      0.41       584\n",
      "\n",
      "    accuracy                           0.88      5706\n",
      "   macro avg       0.67      0.68      0.67      5706\n",
      "weighted avg       0.88      0.88      0.88      5706\n",
      "\n",
      "Confustion Matrix:\n",
      "[[4749  373]\n",
      " [ 335  249]]\n",
      "\n",
      "Accuracy Score: 87.59%\n",
      "\n",
      "\n",
      "#########################Naive Bayes#######################################\n",
      "Calssification Report:\n",
      "              precision    recall  f1-score   support\n",
      "\n",
      "           0       0.96      0.83      0.89      5122\n",
      "           1       0.31      0.70      0.43       584\n",
      "\n",
      "    accuracy                           0.81      5706\n",
      "   macro avg       0.64      0.76      0.66      5706\n",
      "weighted avg       0.89      0.81      0.84      5706\n",
      "\n",
      "Confustion Matrix:\n",
      "[[4229  893]\n",
      " [ 176  408]]\n",
      "\n",
      "Accuracy Score: 81.27%\n",
      "\n",
      "\n",
      "#########################K Neareast Neighbors#############################\n",
      "Calssification Report:\n",
      "              precision    recall  f1-score   support\n",
      "\n",
      "           0       0.93      0.98      0.95      5122\n",
      "           1       0.64      0.39      0.48       584\n",
      "\n",
      "    accuracy                           0.91      5706\n",
      "   macro avg       0.79      0.68      0.72      5706\n",
      "weighted avg       0.90      0.91      0.91      5706\n",
      "\n",
      "Confustion Matrix:\n",
      "[[4995  127]\n",
      " [ 359  225]]\n",
      "\n",
      "Accuracy Score: 91.48%\n"
     ]
    }
   ],
   "source": [
    "#Checking the accuract score of each of the model \n",
    "#and choosing the one with the highest \n",
    "print (\"\\n\\n#########################Logistic Regression##############################\")\n",
    "#Model for logstic Regression\n",
    "lm = LogisticRegression(solver='lbfgs', max_iter=1000)\n",
    "lm.fit(X_train, Y_train)\n",
    "lm.predict_proba(X_valid)\n",
    "lm_predicted = lm.predict(X_valid)\n",
    "print(\"Calssification Report:\\n{0}\".format(metrics.classification_report(Y_valid, lm_predicted)))\n",
    "print(\"Confustion Matrix:\\n{0}\\n\".format(metrics.confusion_matrix(Y_valid, lm_predicted)))\n",
    "print(\"Accuracy Score: {0:.2f}%\".format(metrics.accuracy_score(Y_valid, lm_predicted)*100))\n",
    "\n",
    "print (\"\\n\\n#########################Decision Tree####################################\")\n",
    "#Model for Decision Trees\n",
    "dt = DecisionTreeClassifier()\n",
    "dt.fit(X_train, Y_train)\n",
    "dt_predicted = dt.predict(X_valid)\n",
    "print(\"Calssification Report:\\n{0}\".format(metrics.classification_report(Y_valid, dt_predicted)))\n",
    "print(\"Confustion Matrix:\\n{0}\\n\".format(metrics.confusion_matrix(Y_valid, dt_predicted)))\n",
    "print(\"Accuracy Score: {0:.2f}%\".format(metrics.accuracy_score(Y_valid, dt_predicted)*100))\n",
    "\n",
    "print (\"\\n\\n#########################Naive Bayes#######################################\")\n",
    "#Model for Naive Bayes\n",
    "gnb = GaussianNB()\n",
    "gnb.fit(X_train, Y_train)\n",
    "gnb_predicted = gnb.predict(X_valid)\n",
    "print(\"Calssification Report:\\n{0}\".format(metrics.classification_report(Y_valid, gnb_predicted)))\n",
    "print(\"Confustion Matrix:\\n{0}\\n\".format(metrics.confusion_matrix(Y_valid, gnb_predicted)))\n",
    "print(\"Accuracy Score: {0:.2f}%\".format(metrics.accuracy_score(Y_valid, gnb_predicted)*100))\n",
    "\n",
    "print (\"\\n\\n#########################K Neareast Neighbors#############################\")\n",
    "#Model for K Neareast Neighbors\n",
    "kn = KNeighborsClassifier()\n",
    "kn.fit(X_train, Y_train)\n",
    "kn_predicted = kn.predict(X_valid)\n",
    "print(\"Calssification Report:\\n{0}\".format(metrics.classification_report(Y_valid, kn_predicted)))\n",
    "print(\"Confustion Matrix:\\n{0}\\n\".format(metrics.confusion_matrix(Y_valid, kn_predicted)))\n",
    "print(\"Accuracy Score: {0:.2f}%\".format(metrics.accuracy_score(Y_valid, kn_predicted)*100))"
   ]
  },
  {
   "cell_type": "markdown",
   "metadata": {},
   "source": [
    "K Nearest Model has the highest acurray score of <b>91.48%</b>, hence this model will be classification will be choosen as the supervised predictin model."
   ]
  },
  {
   "cell_type": "markdown",
   "metadata": {},
   "source": [
    "## Model Building - K Nearest Neighbors"
   ]
  },
  {
   "cell_type": "markdown",
   "metadata": {},
   "source": [
    "### Untuned Model "
   ]
  },
  {
   "cell_type": "code",
   "execution_count": 27,
   "metadata": {},
   "outputs": [
    {
     "name": "stdout",
     "output_type": "stream",
     "text": [
      "Calssification Report:\n",
      "              precision    recall  f1-score   support\n",
      "\n",
      "           0       0.93      0.98      0.95      5122\n",
      "           1       0.64      0.39      0.48       584\n",
      "\n",
      "    accuracy                           0.91      5706\n",
      "   macro avg       0.79      0.68      0.72      5706\n",
      "weighted avg       0.90      0.91      0.91      5706\n",
      "\n",
      "Confustion Matrix:\n",
      "[[4995  127]\n",
      " [ 359  225]]\n",
      "\n",
      "Accuracy Score: 91.48%\n"
     ]
    }
   ],
   "source": [
    "model = KNeighborsClassifier()\n",
    "model.fit(X_train, Y_train)\n",
    "predicted = model.predict(X_valid)\n",
    "print(\"Calssification Report:\\n{0}\".format(metrics.classification_report(Y_valid, predicted)))\n",
    "print(\"Confustion Matrix:\\n{0}\\n\".format(metrics.confusion_matrix(Y_valid, predicted)))\n",
    "print(\"Accuracy Score: {0:.2f}%\".format(metrics.accuracy_score(Y_valid, predicted)*100))"
   ]
  },
  {
   "cell_type": "markdown",
   "metadata": {},
   "source": [
    "#### Testing with Untuned Model "
   ]
  },
  {
   "cell_type": "code",
   "execution_count": 28,
   "metadata": {},
   "outputs": [
    {
     "name": "stdout",
     "output_type": "stream",
     "text": [
      "Calssification Report:\n",
      "              precision    recall  f1-score   support\n",
      "\n",
      "           0       0.93      0.97      0.95      7316\n",
      "           1       0.63      0.40      0.49       835\n",
      "\n",
      "    accuracy                           0.91      8151\n",
      "   macro avg       0.78      0.68      0.72      8151\n",
      "weighted avg       0.90      0.91      0.91      8151\n",
      "\n",
      "Confustion Matrix:\n",
      "[[7122  194]\n",
      " [ 504  331]]\n",
      "\n",
      "Accuracy Score: 91.44%\n"
     ]
    }
   ],
   "source": [
    "predicted2 = model.predict(X_test)\n",
    "print(\"Calssification Report:\\n{0}\".format(metrics.classification_report(Y_test, predicted2)))\n",
    "print(\"Confustion Matrix:\\n{0}\\n\".format(metrics.confusion_matrix(Y_test, predicted2)))\n",
    "print(\"Accuracy Score: {0:.2f}%\".format(metrics.accuracy_score(Y_test, predicted2)*100))"
   ]
  },
  {
   "cell_type": "markdown",
   "metadata": {},
   "source": [
    "### Tuned Model "
   ]
  },
  {
   "cell_type": "code",
   "execution_count": 29,
   "metadata": {
    "scrolled": true
   },
   "outputs": [
    {
     "name": "stdout",
     "output_type": "stream",
     "text": [
      "Calssification Report:\n",
      "              precision    recall  f1-score   support\n",
      "\n",
      "           0       0.93      0.98      0.95      5122\n",
      "           1       0.70      0.32      0.44       584\n",
      "\n",
      "    accuracy                           0.92      5706\n",
      "   macro avg       0.81      0.65      0.70      5706\n",
      "weighted avg       0.90      0.92      0.90      5706\n",
      "\n",
      "Confustion Matrix:\n",
      "[[5042   80]\n",
      " [ 398  186]]\n",
      "\n",
      "Accuracy Score: 91.62%\n"
     ]
    }
   ],
   "source": [
    "model2 = KNeighborsClassifier(n_neighbors=10, p=1)\n",
    "model2.fit(X_train, Y_train)\n",
    "model2.predict_proba(X_valid)\n",
    "predicted3 = model2.predict(X_valid)\n",
    "print(\"Calssification Report:\\n{0}\".format(metrics.classification_report(Y_valid, predicted3)))\n",
    "print(\"Confustion Matrix:\\n{0}\\n\".format(metrics.confusion_matrix(Y_valid, predicted3)))\n",
    "print(\"Accuracy Score: {0:.2f}%\".format(metrics.accuracy_score(Y_valid, predicted3)*100))"
   ]
  },
  {
   "cell_type": "markdown",
   "metadata": {},
   "source": [
    "#### Testing with tuned model "
   ]
  },
  {
   "cell_type": "code",
   "execution_count": 30,
   "metadata": {},
   "outputs": [
    {
     "name": "stdout",
     "output_type": "stream",
     "text": [
      "Calssification Report:\n",
      "              precision    recall  f1-score   support\n",
      "\n",
      "           0       0.93      0.99      0.96      7316\n",
      "           1       0.72      0.33      0.45       835\n",
      "\n",
      "    accuracy                           0.92      8151\n",
      "   macro avg       0.83      0.66      0.70      8151\n",
      "weighted avg       0.91      0.92      0.90      8151\n",
      "\n",
      "Confustion Matrix:\n",
      "[[7211  105]\n",
      " [ 559  276]]\n",
      "\n",
      "Accuracy Score: 91.85%\n"
     ]
    }
   ],
   "source": [
    "predicted4 = model2.predict(X_test)\n",
    "print(\"Calssification Report:\\n{0}\".format(metrics.classification_report(Y_test, predicted4)))\n",
    "print(\"Confustion Matrix:\\n{0}\\n\".format(metrics.confusion_matrix(Y_test, predicted4)))\n",
    "print(\"Accuracy Score: {0:.2f}%\".format(metrics.accuracy_score(Y_test, predicted4)*100))"
   ]
  }
 ],
 "metadata": {
  "kernelspec": {
   "display_name": "Python 3",
   "language": "python",
   "name": "python3"
  },
  "language_info": {
   "codemirror_mode": {
    "name": "ipython",
    "version": 3
   },
   "file_extension": ".py",
   "mimetype": "text/x-python",
   "name": "python",
   "nbconvert_exporter": "python",
   "pygments_lexer": "ipython3",
   "version": "3.8.3"
  }
 },
 "nbformat": 4,
 "nbformat_minor": 4
}
